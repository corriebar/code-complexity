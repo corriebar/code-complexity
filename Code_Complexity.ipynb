{
 "cells": [
  {
   "attachments": {},
   "cell_type": "markdown",
   "id": "dac9edb2-734a-4ea6-8b66-991b1ddd7cb0",
   "metadata": {
    "tags": []
   },
   "source": [
    "# Code Complexity Summary\n",
    "\n",
    "This notbook generates code compexity summaries and writes them to a google sheet.\n",
    "\n",
    "For each repository, one tab is added.\n",
    "\n",
    "Before running the code, make sure to be on an up-to-date master for all repositories without any untracked python files.\n",
    "\n",
    "For more on code complexities and the measures used in this notebook, check these [slides]()."
   ]
  },
  {
   "cell_type": "code",
   "execution_count": 2,
   "id": "d6936daa-eb5e-44c1-81bf-3389da68153d",
   "metadata": {},
   "outputs": [],
   "source": [
    "%load_ext autoreload\n",
    "%autoreload 2\n",
    "\n",
    "from pathlib import Path\n",
    "\n",
    "root = Path(\"/Users/corrie/Documents/private_projects\")\n",
    "repos = [\n",
    "    root / \"code-complexity\",\n",
    "    #...\n",
    "]"
   ]
  },
  {
   "cell_type": "code",
   "execution_count": 3,
   "id": "a2297d47-d4b3-4351-99db-fdd62f8f6c0b",
   "metadata": {},
   "outputs": [],
   "source": [
    "\n",
    "\n",
    "\n",
    "import pandas as pd\n",
    "\n",
    "import gspread\n",
    "\n",
    "from code.gsheet_utils import apply_formatting, return_data_to_write\n",
    "from code.complexity_metrics import get_repo_complexities\n",
    "\n",
    "import warnings\n",
    "warnings.simplefilter(action=\"ignore\", category=Warning)\n",
    "\n",
    "from plotnine import *"
   ]
  },
  {
   "cell_type": "code",
   "execution_count": 4,
   "id": "bcdfc656-b500-4086-990d-f8d461ef94b4",
   "metadata": {},
   "outputs": [],
   "source": [
    "creds_dict = {}  # your creds dict\n",
    "scopes = [\"https://www.googleapis.com/auth/drive\"]\n",
    "gc = gspread.service_account_from_dict(creds_dict, scopes)\n"
   ]
  },
  {
   "cell_type": "markdown",
   "id": "0a258c10-7104-4c0b-9e0f-619fc67706e7",
   "metadata": {
    "tags": []
   },
   "source": [
    "## Run for a single repo\n",
    "\n",
    "If you only want to get the results for a single repo (or folder), you can run the following command:"
   ]
  },
  {
   "cell_type": "code",
   "execution_count": 5,
   "id": "0b34e184-e28d-4ff0-8dfa-f24a8443371f",
   "metadata": {
    "tags": []
   },
   "outputs": [
    {
     "data": {
      "text/html": [
       "<div>\n",
       "<style scoped>\n",
       "    .dataframe tbody tr th:only-of-type {\n",
       "        vertical-align: middle;\n",
       "    }\n",
       "\n",
       "    .dataframe tbody tr th {\n",
       "        vertical-align: top;\n",
       "    }\n",
       "\n",
       "    .dataframe thead th {\n",
       "        text-align: right;\n",
       "    }\n",
       "</style>\n",
       "<table border=\"1\" class=\"dataframe\">\n",
       "  <thead>\n",
       "    <tr style=\"text-align: right;\">\n",
       "      <th></th>\n",
       "      <th>repo</th>\n",
       "      <th>file</th>\n",
       "      <th>function_name</th>\n",
       "      <th>func_lineno</th>\n",
       "      <th>func_length</th>\n",
       "      <th>cognitive_complexity</th>\n",
       "      <th>sum_expression_complexity</th>\n",
       "      <th>max_expression_complexity</th>\n",
       "      <th>num_arguments</th>\n",
       "      <th>num_returns</th>\n",
       "      <th>num_module_expressions</th>\n",
       "      <th>module_complexity</th>\n",
       "      <th>extract_date</th>\n",
       "    </tr>\n",
       "  </thead>\n",
       "  <tbody>\n",
       "    <tr>\n",
       "      <th>3</th>\n",
       "      <td>code-complexity</td>\n",
       "      <td>/code/parse_code.py</td>\n",
       "      <td>iterate_over_expressions</td>\n",
       "      <td>33</td>\n",
       "      <td>31</td>\n",
       "      <td>12</td>\n",
       "      <td>18.0</td>\n",
       "      <td>6.0</td>\n",
       "      <td>1</td>\n",
       "      <td>0</td>\n",
       "      <td>4</td>\n",
       "      <td>0.0</td>\n",
       "      <td>2023-04-18</td>\n",
       "    </tr>\n",
       "    <tr>\n",
       "      <th>1</th>\n",
       "      <td>code-complexity</td>\n",
       "      <td>/code/parse_code.py</td>\n",
       "      <td>get_all_python_files</td>\n",
       "      <td>13</td>\n",
       "      <td>10</td>\n",
       "      <td>8</td>\n",
       "      <td>18.0</td>\n",
       "      <td>3.5</td>\n",
       "      <td>2</td>\n",
       "      <td>1</td>\n",
       "      <td>4</td>\n",
       "      <td>0.0</td>\n",
       "      <td>2023-04-18</td>\n",
       "    </tr>\n",
       "    <tr>\n",
       "      <th>6</th>\n",
       "      <td>code-complexity</td>\n",
       "      <td>/code/gsheet_utils.py</td>\n",
       "      <td>return_data_to_write</td>\n",
       "      <td>45</td>\n",
       "      <td>8</td>\n",
       "      <td>2</td>\n",
       "      <td>9.5</td>\n",
       "      <td>2.5</td>\n",
       "      <td>3</td>\n",
       "      <td>1</td>\n",
       "      <td>14</td>\n",
       "      <td>7.5</td>\n",
       "      <td>2023-04-18</td>\n",
       "    </tr>\n",
       "  </tbody>\n",
       "</table>\n",
       "</div>"
      ],
      "text/plain": [
       "              repo                   file             function_name   \n",
       "3  code-complexity    /code/parse_code.py  iterate_over_expressions  \\\n",
       "1  code-complexity    /code/parse_code.py      get_all_python_files   \n",
       "6  code-complexity  /code/gsheet_utils.py      return_data_to_write   \n",
       "\n",
       "   func_lineno  func_length  cognitive_complexity  sum_expression_complexity   \n",
       "3           33           31                    12                       18.0  \\\n",
       "1           13           10                     8                       18.0   \n",
       "6           45            8                     2                        9.5   \n",
       "\n",
       "   max_expression_complexity  num_arguments  num_returns   \n",
       "3                        6.0              1            0  \\\n",
       "1                        3.5              2            1   \n",
       "6                        2.5              3            1   \n",
       "\n",
       "   num_module_expressions  module_complexity extract_date  \n",
       "3                       4                0.0   2023-04-18  \n",
       "1                       4                0.0   2023-04-18  \n",
       "6                      14                7.5   2023-04-18  "
      ]
     },
     "execution_count": 5,
     "metadata": {},
     "output_type": "execute_result"
    }
   ],
   "source": [
    "repo = 'code-complexity'\n",
    "\n",
    "df = get_repo_complexities(repos[0])\n",
    "\n",
    "df.head(3)"
   ]
  },
  {
   "cell_type": "markdown",
   "id": "ca183151-df4d-430a-a021-943a012ccd68",
   "metadata": {},
   "source": [
    "## Save to Google Sheet"
   ]
  },
  {
   "cell_type": "code",
   "execution_count": 6,
   "id": "8efa54fa-2a4b-4daa-9664-d86a5e62f813",
   "metadata": {},
   "outputs": [],
   "source": [
    "url = \"https://docs.google.com/spreadsheets/d/{sheet_id}}/\"\n",
    "sheet = gc.open_by_url(url)"
   ]
  },
  {
   "cell_type": "code",
   "execution_count": null,
   "id": "2857b1c9-e8af-4907-a175-ce59bbbe4409",
   "metadata": {},
   "outputs": [],
   "source": [
    "tabs = [wksh.title for wksh in sheet.worksheets()]\n",
    "all_repos = []\n",
    "for repo in repos:\n",
    "    new_df = get_repo_complexities(repo)\n",
    "    \n",
    "    if not repo in tabs:\n",
    "        wksht = sheet.add_worksheet(title=repo, rows=1000, cols=26, index=0)\n",
    "        df = new_df\n",
    "    else:\n",
    "        df = return_data_to_write(sheet, repo.name, new_df)\n",
    "        wksht = sheet.worksheet(repo.name)\n",
    "    apply_formatting(wksht, df)\n",
    "\n",
    "    \n",
    "    all_repos.append(df)"
   ]
  },
  {
   "cell_type": "markdown",
   "id": "43942b9d-d69b-4d4a-ab44-54ca6abfa051",
   "metadata": {},
   "source": [
    "## Summary Statistics"
   ]
  },
  {
   "cell_type": "code",
   "execution_count": 8,
   "id": "7637e4fb-8c16-4e01-aef7-6265e5e4d362",
   "metadata": {},
   "outputs": [],
   "source": [
    "df_all = pd.concat(all_repos, ignore_index=True).query('repo != \"nan\" & repo.notna()')\n",
    "\n",
    "df_all['extract_date'] = df_all['extract_date'].replace('nan', None).fillna(method='ffill')"
   ]
  },
  {
   "cell_type": "code",
   "execution_count": 9,
   "id": "8dde96de-7116-4e9a-a3ab-fa99649151bf",
   "metadata": {},
   "outputs": [],
   "source": [
    "plot_df = (df_all\n",
    "           .groupby(['repo', 'extract_date'])\n",
    "           .cognitive_complexity.agg(['mean', 'max', 'median'])\n",
    "           .reset_index()\n",
    "          )\n",
    "\n",
    "plot_df['extract_date'] = pd.to_datetime(plot_df['extract_date'])\n"
   ]
  },
  {
   "cell_type": "code",
   "execution_count": 15,
   "id": "0d1c141c-4e2e-4001-b2a2-ff501edea21e",
   "metadata": {},
   "outputs": [],
   "source": [
    "(ggplot(plot_df, aes(x='extract_date', y='mean', color='repo'))\n",
    " + geom_line(show_legend=False, size=1.5)\n",
    " + geom_point(show_legend=False, size=2)\n",
    " + scale_x_date(date_labels='%b %Y', breaks=plot_df.extract_date.unique())\n",
    " + scale_color_brewer(type='qual', palette='Set2')\n",
    " + labs(x='', y='Complexity', title='Code Complexity of our Repos over Time')\n",
    " + theme_minimal()\n",
    " + theme(figure_size=(8,15),\n",
    "        legend_position='bottom')\n",
    ").draw()"
   ]
  },
  {
   "cell_type": "code",
   "execution_count": 14,
   "id": "1685a242-9201-4ef3-957c-26f041d33dc1",
   "metadata": {},
   "outputs": [],
   "source": [
    "(ggplot(plot_df, aes(x='extract_date', y='mean', color='repo'))\n",
    " + geom_line(show_legend=False)\n",
    " + geom_point(show_legend=False)\n",
    " + scale_x_date(date_labels='%d %b %Y', breaks=plot_df['extract_date'].unique())\n",
    " + scale_color_brewer(type='qual', palette='Paired')\n",
    " + labs(x='', y='Max Cognitive Complexity', title='Max Cognitive Complexity of our Repos over Time')\n",
    " + theme_minimal()\n",
    " + theme(figure_size=(10,6),\n",
    "        legend_position='bottom')\n",
    ").draw()"
   ]
  }
 ],
 "metadata": {
  "kernelspec": {
   "display_name": "code-complexity",
   "language": "python",
   "name": "code-complexity"
  },
  "language_info": {
   "codemirror_mode": {
    "name": "ipython",
    "version": 3
   },
   "file_extension": ".py",
   "mimetype": "text/x-python",
   "name": "python",
   "nbconvert_exporter": "python",
   "pygments_lexer": "ipython3",
   "version": "3.11.1"
  }
 },
 "nbformat": 4,
 "nbformat_minor": 5
}
